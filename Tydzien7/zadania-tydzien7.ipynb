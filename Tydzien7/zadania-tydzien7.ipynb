{
 "cells": [
  {
   "cell_type": "markdown",
   "id": "4cab445a",
   "metadata": {},
   "source": [
    "### Zadanie 1\n",
    "Napisz klasę *Czlowiek* przyjmującą parametry **imie**, **nazwisko**, **płeć**, **wzrost**, **waga**. Powinna też inicjować parametr **okupacja**, która pierwotnie nie wynosi nic. Powinna zawierać metody *obudzSie()*,  *zjedz(coJe)*, *idzDo(miejsce)*, *spij()*. Kiedy obiekt ją odwzorowujący jest wypisywany, powinna pojawiać się wiadomość ***\"\\[Płeć\\] Imie Nazwisko (Wiek): waga: Waga, wzrost: Wzrost, okupacja: Okupacja\"***"
   ]
  },
  {
   "cell_type": "markdown",
   "id": "d4cdfb8a",
   "metadata": {},
   "source": [
    "### Zadanie 2\n",
    "Napisz dwie klasy dziedziczące z *Człowiek*: *Student* i *Wykladowca*. Dopisz w inicjatorze klasy odpowiednią okupację dla klasy pamiętając o odpowiednim zainicjowaniu parametrów klasy macierzystej. Dopisz dodatkowe metody dla tych klas opisujące czynności przez nie wykonywane."
   ]
  },
  {
   "cell_type": "markdown",
   "id": "f06eda57",
   "metadata": {},
   "source": [
    "### Zadanie 3\n",
    "Zrób symulator dnia na wybranym wydziale używając do odliczania czasu funkcji ***sleep***(s) z modułu **time**. Użyj ***punktu wejścia programu***."
   ]
  },
  {
   "cell_type": "code",
   "execution_count": 1,
   "id": "a2060ff5",
   "metadata": {},
   "outputs": [],
   "source": [
    "class Czlowiek:\n",
    "    def __init__(self, imie, nazwisko, wiek, plec, wzrost, waga):\n",
    "        self.imie = imie\n",
    "        self.nazwisko = nazwisko\n",
    "        self.wiek = wiek\n",
    "        self.plec = plec\n",
    "        self.wzrost = wzrost\n",
    "        self.waga = waga\n",
    "        self.okupacja = None\n",
    "        \n",
    "    def obudzSie(self):\n",
    "        print(f\"{self.imie} {self.nazwisko} budzi się.\")\n",
    "        \n",
    "    def zjedz(self, coje):\n",
    "        return f\"{self.imie} {self.nazwisko} je {coje}\"\n",
    "    \n",
    "    def idzDo(self, miejsce):\n",
    "        return f\"{self.imie} {self.nazwisko} idzie do {miejsce}\"\n",
    "    \n",
    "    def spij(self):\n",
    "        print(f\"{self.imie} {self.nazwisko} idzie spać.\")\n",
    "        \n",
    "    def __str__(self):\n",
    "        return f\"[{self.plec}] {self.imie} {self.nazwisko} ({self.wiek}): waga: {self.waga}, wzrost: {self.wzrost}, okupacja: {self.okupacja}\"\n"
   ]
  },
  {
   "cell_type": "code",
   "execution_count": 2,
   "id": "e2905736",
   "metadata": {},
   "outputs": [
    {
     "name": "stdout",
     "output_type": "stream",
     "text": [
      "Jan Kowalski budzi się.\n"
     ]
    }
   ],
   "source": [
    "test = Czlowiek(\"Jan\", \"Kowalski\", 25, \"Mężczyzna\", 180, 85)\n",
    "test.obudzSie()"
   ]
  },
  {
   "cell_type": "code",
   "execution_count": 3,
   "id": "95e25ea8",
   "metadata": {},
   "outputs": [
    {
     "name": "stdout",
     "output_type": "stream",
     "text": [
      "Jan Kowalski je Śniadanie\n"
     ]
    }
   ],
   "source": [
    "print(test.zjedz('Śniadanie'))"
   ]
  },
  {
   "cell_type": "code",
   "execution_count": 4,
   "id": "f7df87fb",
   "metadata": {},
   "outputs": [
    {
     "name": "stdout",
     "output_type": "stream",
     "text": [
      "Jan Kowalski idzie do sklep\n"
     ]
    }
   ],
   "source": [
    "print(test.idzDo(\"sklep\"))"
   ]
  },
  {
   "cell_type": "code",
   "execution_count": 5,
   "id": "828a3a55",
   "metadata": {},
   "outputs": [
    {
     "name": "stdout",
     "output_type": "stream",
     "text": [
      "Jan Kowalski idzie spać.\n"
     ]
    }
   ],
   "source": [
    "test.spij()"
   ]
  },
  {
   "cell_type": "code",
   "execution_count": 6,
   "id": "1e324a65",
   "metadata": {},
   "outputs": [
    {
     "name": "stdout",
     "output_type": "stream",
     "text": [
      "[Mężczyzna] Jan Kowalski (25): waga: 85, wzrost: 180, okupacja: None\n"
     ]
    }
   ],
   "source": [
    "print(test)"
   ]
  },
  {
   "cell_type": "code",
   "execution_count": 7,
   "id": "def07b18",
   "metadata": {},
   "outputs": [],
   "source": [
    "class Student(Czlowiek):\n",
    "    def __init__(self, imie, nazwisko, wiek, plec, wzrost, waga):\n",
    "        super().__init__(imie, nazwisko, wiek, plec, wzrost, waga)\n",
    "        self.okupacja = \"Student\"\n",
    "        \n",
    "    def wieczor(self, co_pije):\n",
    "        print(f\"{self.okupacja} {self.imie} {self.nazwisko} idzie na impreze pić {co_pije}\")\n",
    "        \n",
    "    def uczSie(self, przedmiot):\n",
    "        return f\"{self.okupacja} {self.imie} {self.nazwisko} uczy sie do {przedmiot}\"\n",
    "    "
   ]
  },
  {
   "cell_type": "code",
   "execution_count": 8,
   "id": "0d471369",
   "metadata": {},
   "outputs": [],
   "source": [
    "class Wykladowca(Czlowiek):\n",
    "    def __init__(self, imie, nazwisko, wiek, plec, wzrost, waga):\n",
    "        super().__init__(imie, nazwisko, wiek, plec, wzrost, waga)\n",
    "        self.okupacja = \"Wykladowca\"\n",
    "        \n",
    "    def wieczor(self, co_pije):\n",
    "        print(f\"{self.okupacja} {self.imie} {self.nazwisko} pije w samotności {co_pije}\")\n",
    "        \n",
    "    def wyklada(self, przedmiot):\n",
    "        return f\"{self.okupacja} {self.imie} {self.nazwisko} wykłada {przedmiot}\"\n",
    "    \n",
    "    def egzamin(self):\n",
    "        print(f\"{self.okupacja} {self.imie} {self.nazwisko} mówi żeby wyjąć długopisy\")"
   ]
  },
  {
   "cell_type": "code",
   "execution_count": 9,
   "id": "f808f4d8",
   "metadata": {},
   "outputs": [
    {
     "name": "stdout",
     "output_type": "stream",
     "text": [
      "Krzysztof Żamąć budzi się.\n",
      "Krzysztof Żamąć je Śniadanie: Chleb i kawa\n",
      "Krzysztof Żamąć idzie do Uniwersytet\n",
      "Julia Nowak budzi się.\n",
      "Julia Nowak je Śniadanie: Monsterek i piwko\n",
      "Julia Nowak idzie do Uniwersytet\n",
      "Wykladowca Krzysztof Żamąć mówi żeby wyjąć długopisy\n",
      "Student Julia Nowak idzie na impreze pić Wódka\n"
     ]
    }
   ],
   "source": [
    "if __name__ == '__main__':\n",
    "    student = Student(\"Julia\", \"Nowak\", 23, \"Kobieta\", 175, 65)\n",
    "    wykladowca = Wykladowca(\"Krzysztof\", \"Żamąć\", 45, \"Mężczyzna\", 180, 90)\n",
    "    from time import sleep\n",
    "    wykladowca.obudzSie()\n",
    "    print(wykladowca.zjedz(\"Śniadanie: Chleb i kawa\"))\n",
    "    print(wykladowca.idzDo(\"Uniwersytet\"))\n",
    "    sleep(5)\n",
    "    student.obudzSie()\n",
    "    print(student.zjedz(\"Śniadanie: Monsterek i piwko\"))\n",
    "    print(student.idzDo(\"Uniwersytet\"))\n",
    "    sleep(5)\n",
    "    wykladowca.egzamin()\n",
    "    student.wieczor(\"Wódka\")\n",
    "    #exit(0)"
   ]
  },
  {
   "cell_type": "code",
   "execution_count": null,
   "id": "c7e87d3b",
   "metadata": {},
   "outputs": [],
   "source": []
  },
  {
   "cell_type": "code",
   "execution_count": null,
   "id": "2a99d16c",
   "metadata": {},
   "outputs": [],
   "source": []
  },
  {
   "cell_type": "code",
   "execution_count": null,
   "id": "2df358b8",
   "metadata": {},
   "outputs": [],
   "source": []
  }
 ],
 "metadata": {
  "kernelspec": {
   "display_name": "Python 3 (ipykernel)",
   "language": "python",
   "name": "python3"
  },
  "language_info": {
   "codemirror_mode": {
    "name": "ipython",
    "version": 3
   },
   "file_extension": ".py",
   "mimetype": "text/x-python",
   "name": "python",
   "nbconvert_exporter": "python",
   "pygments_lexer": "ipython3",
   "version": "3.8.10"
  }
 },
 "nbformat": 4,
 "nbformat_minor": 5
}
